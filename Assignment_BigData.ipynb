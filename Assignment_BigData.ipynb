{
 "cells": [
  {
   "cell_type": "markdown",
   "id": "64ee559f",
   "metadata": {},
   "source": [
    "# Tasks 1\n",
    "\n",
    "- The dataset contains the collection of data of cars in USA \n",
    "- Dataset contains the information of the model, brand, price, color, mileage, title_status, country, state, etc..."
   ]
  },
  {
   "cell_type": "code",
   "execution_count": 1,
   "id": "643307e8",
   "metadata": {},
   "outputs": [],
   "source": [
    "#importing libraries\n",
    "\n",
    "import pyspark\n",
    "from pyspark.sql import SparkSession\n",
    "from itertools import islice\n",
    "from pyspark.sql import Row\n",
    "import pyspark.sql.functions as f"
   ]
  },
  {
   "cell_type": "code",
   "execution_count": 2,
   "id": "2f8af4fe",
   "metadata": {},
   "outputs": [],
   "source": [
    "# object to create the spark session\n",
    "spark= SparkSession.builder.appName('pyspark-training').master('local').getOrCreate()"
   ]
  },
  {
   "cell_type": "code",
   "execution_count": 3,
   "id": "e71f387e",
   "metadata": {},
   "outputs": [
    {
     "data": {
      "text/html": [
       "\n",
       "            <div>\n",
       "                <p><b>SparkSession - in-memory</b></p>\n",
       "                \n",
       "        <div>\n",
       "            <p><b>SparkContext</b></p>\n",
       "\n",
       "            <p><a href=\"http://DESKTOP-6O97RO8:4040\">Spark UI</a></p>\n",
       "\n",
       "            <dl>\n",
       "              <dt>Version</dt>\n",
       "                <dd><code>v3.3.1</code></dd>\n",
       "              <dt>Master</dt>\n",
       "                <dd><code>local</code></dd>\n",
       "              <dt>AppName</dt>\n",
       "                <dd><code>pyspark-training</code></dd>\n",
       "            </dl>\n",
       "        </div>\n",
       "        \n",
       "            </div>\n",
       "        "
      ],
      "text/plain": [
       "<pyspark.sql.session.SparkSession at 0x1f5f98abc70>"
      ]
     },
     "execution_count": 3,
     "metadata": {},
     "output_type": "execute_result"
    }
   ],
   "source": [
    "spark.getActiveSession()"
   ]
  },
  {
   "cell_type": "code",
   "execution_count": 4,
   "id": "52c4e7c3",
   "metadata": {},
   "outputs": [],
   "source": [
    "sc = spark.sparkContext"
   ]
  },
  {
   "cell_type": "code",
   "execution_count": 5,
   "id": "28e9b276",
   "metadata": {},
   "outputs": [],
   "source": [
    "sc.setLogLevel('WARN')"
   ]
  },
  {
   "cell_type": "code",
   "execution_count": 6,
   "id": "6b745ddb",
   "metadata": {},
   "outputs": [],
   "source": [
    "# to read the csv file in spark\n",
    "df_us_cars = spark.read.option('header', 'true').\\\n",
    "csv('C:\\\\Users\\\\user\\\\Desktop\\\\PGDDSAI\\\\SEM_2\\\\Big Data&Apache Spark\\\\USA_cars_datasets.csv')"
   ]
  },
  {
   "cell_type": "code",
   "execution_count": 7,
   "id": "44260c4c",
   "metadata": {},
   "outputs": [
    {
     "name": "stdout",
     "output_type": "stream",
     "text": [
      "+------+-----+---------+-------+----+-------------+--------+------+-------------------+---------+----------+-------+-------------+\n",
      "|row_id|price|    brand|  model|year| title_status| mileage| color|                vin|      lot|     state|country|    condition|\n",
      "+------+-----+---------+-------+----+-------------+--------+------+-------------------+---------+----------+-------+-------------+\n",
      "|     0| 6300|   toyota|cruiser|2008|clean vehicle|274117.0| black|  jtezu11f88k007763|159348797|new jersey|    usa| 10 days left|\n",
      "|     1| 2899|     ford|     se|2011|clean vehicle|190552.0|silver|  2fmdk3gc4bbb02217|166951262| tennessee|    usa|  6 days left|\n",
      "|     2| 5350|    dodge|    mpv|2018|clean vehicle| 39590.0|silver|  3c4pdcgg5jt346413|167655728|   georgia|    usa|  2 days left|\n",
      "|     3|25000|     ford|   door|2014|clean vehicle| 64146.0|  blue|  1ftfw1et4efc23745|167753855|  virginia|    usa|22 hours left|\n",
      "|     4|27700|chevrolet|   1500|2018|clean vehicle|  6654.0|   red|  3gcpcrec2jg473991|167763266|   florida|    usa|22 hours left|\n",
      "+------+-----+---------+-------+----+-------------+--------+------+-------------------+---------+----------+-------+-------------+\n",
      "only showing top 5 rows\n",
      "\n"
     ]
    }
   ],
   "source": [
    "df_us_cars.show(5)"
   ]
  },
  {
   "cell_type": "code",
   "execution_count": 8,
   "id": "d74a02a3",
   "metadata": {},
   "outputs": [
    {
     "data": {
      "text/plain": [
       "['row_id',\n",
       " 'price',\n",
       " 'brand',\n",
       " 'model',\n",
       " 'year',\n",
       " 'title_status',\n",
       " 'mileage',\n",
       " 'color',\n",
       " 'vin',\n",
       " 'lot',\n",
       " 'state',\n",
       " 'country',\n",
       " 'condition']"
      ]
     },
     "execution_count": 8,
     "metadata": {},
     "output_type": "execute_result"
    }
   ],
   "source": [
    "df_us_cars.columns"
   ]
  },
  {
   "cell_type": "code",
   "execution_count": 9,
   "id": "f861a6d0",
   "metadata": {},
   "outputs": [
    {
     "name": "stdout",
     "output_type": "stream",
     "text": [
      "root\n",
      " |-- row_id: string (nullable = true)\n",
      " |-- price: string (nullable = true)\n",
      " |-- brand: string (nullable = true)\n",
      " |-- model: string (nullable = true)\n",
      " |-- year: string (nullable = true)\n",
      " |-- title_status: string (nullable = true)\n",
      " |-- mileage: string (nullable = true)\n",
      " |-- color: string (nullable = true)\n",
      " |-- vin: string (nullable = true)\n",
      " |-- lot: string (nullable = true)\n",
      " |-- state: string (nullable = true)\n",
      " |-- country: string (nullable = true)\n",
      " |-- condition: string (nullable = true)\n",
      "\n"
     ]
    }
   ],
   "source": [
    "df_us_cars.printSchema()"
   ]
  },
  {
   "cell_type": "markdown",
   "id": "62b927a9",
   "metadata": {},
   "source": [
    "### - The datatype  of the Price and Mileage column is string to convert the datatype to integer we use cast( ) function in spark"
   ]
  },
  {
   "cell_type": "code",
   "execution_count": 10,
   "id": "58b6223e",
   "metadata": {},
   "outputs": [],
   "source": [
    "price = f.col('price').cast('int')"
   ]
  },
  {
   "cell_type": "code",
   "execution_count": 11,
   "id": "c3d39e63",
   "metadata": {},
   "outputs": [],
   "source": [
    "df_us_cars = df_us_cars.withColumn('price',price)"
   ]
  },
  {
   "cell_type": "code",
   "execution_count": 12,
   "id": "4c8af225",
   "metadata": {},
   "outputs": [],
   "source": [
    "mileage = f.col('mileage').cast('int')"
   ]
  },
  {
   "cell_type": "code",
   "execution_count": 13,
   "id": "43a97ecc",
   "metadata": {},
   "outputs": [],
   "source": [
    "df_us_cars = df_us_cars.withColumn('mileage',mileage)"
   ]
  },
  {
   "cell_type": "code",
   "execution_count": 14,
   "id": "62e41a33",
   "metadata": {},
   "outputs": [
    {
     "name": "stdout",
     "output_type": "stream",
     "text": [
      "root\n",
      " |-- row_id: string (nullable = true)\n",
      " |-- price: integer (nullable = true)\n",
      " |-- brand: string (nullable = true)\n",
      " |-- model: string (nullable = true)\n",
      " |-- year: string (nullable = true)\n",
      " |-- title_status: string (nullable = true)\n",
      " |-- mileage: integer (nullable = true)\n",
      " |-- color: string (nullable = true)\n",
      " |-- vin: string (nullable = true)\n",
      " |-- lot: string (nullable = true)\n",
      " |-- state: string (nullable = true)\n",
      " |-- country: string (nullable = true)\n",
      " |-- condition: string (nullable = true)\n",
      "\n"
     ]
    }
   ],
   "source": [
    "df_us_cars.printSchema()"
   ]
  },
  {
   "cell_type": "code",
   "execution_count": 15,
   "id": "908b8c5b",
   "metadata": {},
   "outputs": [
    {
     "name": "stdout",
     "output_type": "stream",
     "text": [
      "+-------+---------+-------+-------------+\n",
      "|mileage|    brand|  model| title_status|\n",
      "+-------+---------+-------+-------------+\n",
      "| 274117|   toyota|cruiser|clean vehicle|\n",
      "| 190552|     ford|     se|clean vehicle|\n",
      "|  39590|    dodge|    mpv|clean vehicle|\n",
      "|  64146|     ford|   door|clean vehicle|\n",
      "|   6654|chevrolet|   1500|clean vehicle|\n",
      "|  45561|    dodge|    mpv|clean vehicle|\n",
      "| 149050|chevrolet|     pk|clean vehicle|\n",
      "|  23525|      gmc|   door|clean vehicle|\n",
      "|   9371|chevrolet| malibu|clean vehicle|\n",
      "|  63418|     ford|    mpv|clean vehicle|\n",
      "| 107856|    dodge|  coupe|clean vehicle|\n",
      "|  39650|      gmc|    mpv|clean vehicle|\n",
      "|  22909|chevrolet|   1500|clean vehicle|\n",
      "| 138650| chrysler|  wagon|clean vehicle|\n",
      "| 100757|     ford|   door|clean vehicle|\n",
      "|  25747|      gmc|   door|clean vehicle|\n",
      "|  46194|      kia|  forte|clean vehicle|\n",
      "|  20002|    buick| encore|clean vehicle|\n",
      "|  35714|     ford|    mpv|clean vehicle|\n",
      "|  54380|     ford|   door|clean vehicle|\n",
      "+-------+---------+-------+-------------+\n",
      "only showing top 20 rows\n",
      "\n"
     ]
    }
   ],
   "source": [
    "df_us_cars.select('mileage','brand','model','title_status').show()"
   ]
  },
  {
   "cell_type": "markdown",
   "id": "29839016",
   "metadata": {},
   "source": [
    "## Q1. Mark rows of cars where the car prices are over 10000 USD"
   ]
  },
  {
   "cell_type": "code",
   "execution_count": 16,
   "id": "f3f7e370",
   "metadata": {},
   "outputs": [
    {
     "name": "stdout",
     "output_type": "stream",
     "text": [
      "Number of cars where the car prices are over 10000 USD : 1890\n"
     ]
    }
   ],
   "source": [
    "print(\"Number of cars where the car prices are over 10000 USD :\",\\\n",
    "      df_us_cars.where(price >= '10000').count())"
   ]
  },
  {
   "cell_type": "code",
   "execution_count": 17,
   "id": "5b57df48",
   "metadata": {},
   "outputs": [
    {
     "name": "stdout",
     "output_type": "stream",
     "text": [
      "Rows of cars where the car prices are over 10000 USD :\n",
      "+-----+-------+---------+\n",
      "|price|  model|    brand|\n",
      "+-----+-------+---------+\n",
      "|25000|   door|     ford|\n",
      "|27700|   1500|chevrolet|\n",
      "|13350|   door|      gmc|\n",
      "|14600| malibu|chevrolet|\n",
      "|10400|  coupe|    dodge|\n",
      "|12920|    mpv|      gmc|\n",
      "|31900|   1500|chevrolet|\n",
      "|20700|   door|     ford|\n",
      "|12710|   door|      gmc|\n",
      "|16500| encore|    buick|\n",
      "|38100|   door|     ford|\n",
      "|12520|   door|      gmc|\n",
      "|15000|   door|chevrolet|\n",
      "|20800|   door|     ford|\n",
      "|11900|   door|      gmc|\n",
      "|21500|sorento|      kia|\n",
      "|12000|   door|    buick|\n",
      "|13000|chassis|     ford|\n",
      "|12710|   door|      gmc|\n",
      "|18500|    q70| infiniti|\n",
      "+-----+-------+---------+\n",
      "only showing top 20 rows\n",
      "\n"
     ]
    }
   ],
   "source": [
    "print(\"Rows of cars where the car prices are over 10000 USD :\")\n",
    "df_us_cars.where(price > 10000).select('price','model','brand').show()"
   ]
  },
  {
   "cell_type": "markdown",
   "id": "aca49178",
   "metadata": {},
   "source": [
    "## Q2. Add new column to the dataset where the car prices are converted to INR. Use the factor USD 1 = Rs. 75"
   ]
  },
  {
   "cell_type": "code",
   "execution_count": 18,
   "id": "4c430769",
   "metadata": {},
   "outputs": [
    {
     "name": "stdout",
     "output_type": "stream",
     "text": [
      "+------+-----+---------+\n",
      "|row_id|price|INR_Price|\n",
      "+------+-----+---------+\n",
      "|     0| 6300|   472500|\n",
      "|     1| 2899|   217425|\n",
      "|     2| 5350|   401250|\n",
      "|     3|25000|  1875000|\n",
      "|     4|27700|  2077500|\n",
      "|     5| 5700|   427500|\n",
      "|     6| 7300|   547500|\n",
      "|     7|13350|  1001250|\n",
      "|     8|14600|  1095000|\n",
      "|     9| 5250|   393750|\n",
      "|    10|10400|   780000|\n",
      "|    11|12920|   969000|\n",
      "|    12|31900|  2392500|\n",
      "|    13| 5430|   407250|\n",
      "|    14|20700|  1552500|\n",
      "|    15|12710|   953250|\n",
      "|    16| 5200|   390000|\n",
      "|    17|16500|  1237500|\n",
      "|    18| 5210|   390750|\n",
      "|    19|38100|  2857500|\n",
      "+------+-----+---------+\n",
      "only showing top 20 rows\n",
      "\n"
     ]
    }
   ],
   "source": [
    "# To add ne column in the dataframe we use the withColumn() function\n",
    "\n",
    "df_us_cars.withColumn('INR_Price',df_us_cars.price*75).select('row_id','price','INR_Price').show()"
   ]
  },
  {
   "cell_type": "markdown",
   "id": "537a4da8",
   "metadata": {},
   "source": [
    "## Q3. Find top 5 cars with the highest mileage."
   ]
  },
  {
   "cell_type": "code",
   "execution_count": 19,
   "id": "c998e5ab",
   "metadata": {},
   "outputs": [
    {
     "name": "stdout",
     "output_type": "stream",
     "text": [
      "+-------+\n",
      "|    MAX|\n",
      "+-------+\n",
      "|1017936|\n",
      "+-------+\n",
      "\n"
     ]
    }
   ],
   "source": [
    "# Highest Mileage in the dataset\n",
    "df_us_cars.select(f.max(f.col(\"mileage\")).alias(\"MAX\")).show()"
   ]
  },
  {
   "cell_type": "code",
   "execution_count": 20,
   "id": "7d2cd2b4",
   "metadata": {},
   "outputs": [
    {
     "name": "stdout",
     "output_type": "stream",
     "text": [
      "Cars having the highest Mileage :\n",
      "+---------+-----------+\n",
      "|    brand|MAX_mileage|\n",
      "+---------+-----------+\n",
      "|peterbilt|    1017936|\n",
      "|     ford|     999999|\n",
      "|chevrolet|     507985|\n",
      "|   toyota|     274117|\n",
      "|    dodge|     239822|\n",
      "+---------+-----------+\n",
      "only showing top 5 rows\n",
      "\n"
     ]
    }
   ],
   "source": [
    "# Here groupby() is to group the data according to the brand\n",
    "# f.max() is use to calculate the maximum value\n",
    "# alias() is use to give the name to new column\n",
    "# orderBy(),.desc() is used to arrange the data in descending order\n",
    "print(\"Cars having the highest Mileage :\")\n",
    "df = df_us_cars.groupby('brand').agg(f.max(f.col('mileage')).alias('MAX_mileage')).\\\n",
    "select('brand','MAX_mileage').\\\n",
    "orderBy(f.col('Max_mileage').desc()).show(5)"
   ]
  },
  {
   "cell_type": "markdown",
   "id": "19aa3d71",
   "metadata": {},
   "source": [
    " ## Q4. Find  top 2 average mileage per car maker"
   ]
  },
  {
   "cell_type": "code",
   "execution_count": 21,
   "id": "dd88eb61",
   "metadata": {},
   "outputs": [
    {
     "name": "stdout",
     "output_type": "stream",
     "text": [
      "Top 2 average mileage per car : \n",
      "+---------+---------+\n",
      "|    brand|      AVG|\n",
      "+---------+---------+\n",
      "|peterbilt|725615.75|\n",
      "|   toyota| 274117.0|\n",
      "+---------+---------+\n",
      "only showing top 2 rows\n",
      "\n"
     ]
    }
   ],
   "source": [
    "# Here groupby() is to group the data according to the brand\n",
    "# f.avg() is use to calculate the average value\n",
    "# alias() is use to give the name to new column\n",
    "# orderBy(),.desc() is used to arrange the data in descending order\n",
    "print(\"Top 2 average mileage per car : \")\n",
    "df_us_cars.groupby('brand').agg(f.avg(f.col('mileage')).alias('AVG')).select('brand','AVG').orderBy(f.col('AVG').desc()).show(2)"
   ]
  },
  {
   "cell_type": "markdown",
   "id": "9b2d7b16",
   "metadata": {},
   "source": [
    "## Q5. Find the number of cruiser class cars present in the dataset"
   ]
  },
  {
   "cell_type": "code",
   "execution_count": 22,
   "id": "8b56fe95",
   "metadata": {},
   "outputs": [
    {
     "name": "stdout",
     "output_type": "stream",
     "text": [
      "Number of cruiser class cars present: 1\n"
     ]
    }
   ],
   "source": [
    "# filter() is use to filter the data where the model name is cruiser\n",
    "# count() is to calculate the number of time specific data present in dataset\n",
    "\n",
    "print(\"Number of cruiser class cars present:\",df_us_cars.filter(df_us_cars.model == 'cruiser').count())"
   ]
  },
  {
   "cell_type": "markdown",
   "id": "c53afda8",
   "metadata": {},
   "source": [
    "## Q6. Find the number of vehicles that are clean and the number of vehicles that have been salvaged"
   ]
  },
  {
   "cell_type": "code",
   "execution_count": 23,
   "id": "45d6b0df",
   "metadata": {},
   "outputs": [
    {
     "data": {
      "text/plain": [
       "[Row(title_status='salvage insurance', count=163),\n",
       " Row(title_status='clean vehicle', count=2336)]"
      ]
     },
     "execution_count": 23,
     "metadata": {},
     "output_type": "execute_result"
    }
   ],
   "source": [
    "# 2 ways to check the number of vehicles that are clean and the number of vehicles that have been salvaged \n",
    "df_us_cars.groupby(\"title_status\").count().collect()"
   ]
  },
  {
   "cell_type": "code",
   "execution_count": 24,
   "id": "36ad88c0",
   "metadata": {},
   "outputs": [
    {
     "name": "stdout",
     "output_type": "stream",
     "text": [
      "+-----------------+-----+\n",
      "|     title_status|count|\n",
      "+-----------------+-----+\n",
      "|salvage insurance|  163|\n",
      "|    clean vehicle| 2336|\n",
      "+-----------------+-----+\n",
      "\n"
     ]
    }
   ],
   "source": [
    "df_us_cars.groupby(\"title_status\").count().show()"
   ]
  },
  {
   "cell_type": "markdown",
   "id": "14f78c65",
   "metadata": {},
   "source": [
    "## Q7. Find the number of salvaged cars per state."
   ]
  },
  {
   "cell_type": "code",
   "execution_count": 25,
   "id": "32fec730",
   "metadata": {},
   "outputs": [
    {
     "name": "stdout",
     "output_type": "stream",
     "text": [
      "+-----------------+\n",
      "|     title_status|\n",
      "+-----------------+\n",
      "|salvage insurance|\n",
      "|    clean vehicle|\n",
      "+-----------------+\n",
      "\n"
     ]
    }
   ],
   "source": [
    "(\"Distinct title_status present:\" )\n",
    "# distinct() is used to find the distinct values in the column\n",
    "df_us_cars.select(\"title_status\").distinct().show()"
   ]
  },
  {
   "cell_type": "code",
   "execution_count": 26,
   "id": "f3303c0d",
   "metadata": {},
   "outputs": [
    {
     "name": "stdout",
     "output_type": "stream",
     "text": [
      "number of state present in dataset : 44\n"
     ]
    }
   ],
   "source": [
    "print(\"number of state present in dataset :\",df_us_cars.select(\"state\").distinct().count())"
   ]
  },
  {
   "cell_type": "code",
   "execution_count": 27,
   "id": "59981471",
   "metadata": {},
   "outputs": [
    {
     "name": "stdout",
     "output_type": "stream",
     "text": [
      "Number of state having title status salvage insurance : 32\n"
     ]
    }
   ],
   "source": [
    "print(\"Number of state having title status salvage insurance :\",\\\n",
    "      df_us_cars.where(df_us_cars.title_status==\"salvage insurance\").select('state').distinct().count())"
   ]
  },
  {
   "cell_type": "code",
   "execution_count": 28,
   "id": "1b2fa2bb",
   "metadata": {},
   "outputs": [
    {
     "name": "stdout",
     "output_type": "stream",
     "text": [
      "Number of Salvage insurance cars per state : \n",
      "+--------------+-----+\n",
      "|         state|count|\n",
      "+--------------+-----+\n",
      "|north carolina|    5|\n",
      "|  pennsylvania|    1|\n",
      "|       montana|    1|\n",
      "|south carolina|    5|\n",
      "|    new jersey|    1|\n",
      "|         texas|   17|\n",
      "|      maryland|    4|\n",
      "| massachusetts|    5|\n",
      "|      oklahoma|   13|\n",
      "|        oregon|    2|\n",
      "|          utah|    3|\n",
      "|   mississippi|    3|\n",
      "|        nevada|    1|\n",
      "|      arkansas|    9|\n",
      "|     tennessee|    6|\n",
      "|         idaho|    2|\n",
      "|       arizona|    1|\n",
      "|      illinois|    9|\n",
      "|       florida|   11|\n",
      "|      michigan|   11|\n",
      "+--------------+-----+\n",
      "only showing top 20 rows\n",
      "\n"
     ]
    }
   ],
   "source": [
    "# checking number of Salvage insurance cars per state\n",
    "print(\"Number of Salvage insurance cars per state : \")\n",
    "df_us_cars.where(f.col(\"title_status\") == \"salvage insurance\").groupby(\"state\").count().show()"
   ]
  },
  {
   "cell_type": "code",
   "execution_count": null,
   "id": "2fb032ab",
   "metadata": {},
   "outputs": [],
   "source": []
  }
 ],
 "metadata": {
  "kernelspec": {
   "display_name": "Python 3 (ipykernel)",
   "language": "python",
   "name": "python3"
  },
  "language_info": {
   "codemirror_mode": {
    "name": "ipython",
    "version": 3
   },
   "file_extension": ".py",
   "mimetype": "text/x-python",
   "name": "python",
   "nbconvert_exporter": "python",
   "pygments_lexer": "ipython3",
   "version": "3.9.12"
  }
 },
 "nbformat": 4,
 "nbformat_minor": 5
}
